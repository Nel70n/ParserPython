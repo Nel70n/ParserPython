{
 "cells": [
  {
   "cell_type": "code",
   "execution_count": 60,
   "metadata": {},
   "outputs": [
    {
     "name": "stderr",
     "output_type": "stream",
     "text": [
      "C:\\Users\\right\\AppData\\Local\\Temp/ipykernel_17228/4220991051.py:6: DeprecationWarning: executable_path has been deprecated, please pass in a Service object\n",
      "  driver  = webdriver.Chrome(executable_path=\"drivers/chromedriver.exe\")\n"
     ]
    }
   ],
   "source": [
    "import bs4\n",
    "from selenium import webdriver \n",
    "from bs4 import BeautifulSoup\n",
    "\n",
    "\n",
    "driver  = webdriver.Chrome(executable_path=\"drivers/chromedriver.exe\")\n",
    "driver.get(\"C:/Users/right/Documents/GitHub/ParserPython/data/test.html\")\n",
    "\n",
    "content = driver.page_source\n",
    "soup = BeautifulSoup(content, 'html.parser')\n",
    "\n",
    "cont = soup.body.contents\n",
    "\n",
    "\n",
    "driver.close()"
   ]
  },
  {
   "cell_type": "code",
   "execution_count": 26,
   "metadata": {},
   "outputs": [
    {
     "name": "stdout",
     "output_type": "stream",
     "text": [
      "1\n",
      "<\n",
      "1\n",
      "<\n"
     ]
    }
   ],
   "source": [
    "for child in soup.body.children:\n",
    "    if isinstance(child, bs4.element.Tag):\n",
    "        print(\"1\")\n",
    "        print(str(child.contents[1])[0])"
   ]
  },
  {
   "cell_type": "code",
   "execution_count": 43,
   "metadata": {},
   "outputs": [],
   "source": [
    "def ClearMassive(massive):\n",
    "    i = 0\n",
    "    print(massive)\n",
    "    \n",
    "    while i < len(massive):\n",
    "        print(i)\n",
    "        if massive[i] == '\\n':\n",
    "            del massive[i]\n",
    "        i += 1\n",
    "    return(massive)"
   ]
  },
  {
   "cell_type": "code",
   "execution_count": 36,
   "metadata": {},
   "outputs": [],
   "source": [
    "mass = [1, 2, 3, 4, \"\\n\"]"
   ]
  },
  {
   "cell_type": "code",
   "execution_count": 44,
   "metadata": {},
   "outputs": [
    {
     "name": "stdout",
     "output_type": "stream",
     "text": [
      "[1, 2, 3, 4, '\\n']\n",
      "0\n",
      "1\n",
      "2\n",
      "3\n",
      "4\n"
     ]
    },
    {
     "data": {
      "text/plain": [
       "[1, 2, 3, 4]"
      ]
     },
     "execution_count": 44,
     "metadata": {},
     "output_type": "execute_result"
    }
   ],
   "source": [
    "ClearMassive(mass)"
   ]
  },
  {
   "cell_type": "code",
   "execution_count": 63,
   "metadata": {},
   "outputs": [
    {
     "name": "stdout",
     "output_type": "stream",
     "text": [
      "1\n",
      "Parent: dude\n",
      "Child: div\n",
      "1\n",
      "Parent: dude\n",
      "Child: div\n"
     ]
    }
   ],
   "source": [
    "for child in soup.body.children:\n",
    "    if isinstance(child, bs4.element.Tag):\n",
    "        print(\"1\")\n",
    "        print(f\"Parent: {child.parent['id']}\")\n",
    "        print(f\"Child: {child.name}\")"
   ]
  },
  {
   "cell_type": "code",
   "execution_count": 65,
   "metadata": {},
   "outputs": [],
   "source": [
    "telo = soup.body"
   ]
  },
  {
   "cell_type": "code",
   "execution_count": 69,
   "metadata": {},
   "outputs": [
    {
     "data": {
      "text/plain": [
       "<html lang=\"ru\"><head>\n",
       "<meta charset=\"utf-8\"/>\n",
       "<title>\n",
       "   Название сайта\n",
       "  </title>\n",
       "</head>\n",
       "<body id=\"dude\">\n",
       "<div id=\"main text\">\n",
       "<div id=\"digital information\">\n",
       "<h1>Заголовок 1</h1>\n",
       "<p>С другой стороны сложившаяся структура организации представляет собой интересный эксперимент проверки системы обучения кадров, соответствует насущным потребностям. Товарищи! реализация намеченных плановых заданий в значительной степени обуславливает создание направлений прогрессивного развития. </p>\n",
       "<p>С другой стороны сложившаяся структура организации представляет собой интересный эксперимент проверки системы обучения кадров, соответствует насущным потребностям. Товарищи! реализация намеченных плановых заданий в значительной степени обуславливает создание направлений прогрессивного развития. </p>\n",
       "<a href=\"#\"> Тут типа текст, который должен считываться </a>\n",
       "</div>\n",
       "</div>\n",
       "<div name=\"part two\">\n",
       "<div id=\"footet\">\n",
       "<p>footer one</p>\n",
       "<p>footer two</p>\n",
       "</div>\n",
       "<a href=\"#\"> Тут типа текст, который должен считываться </a>\n",
       "</div>\n",
       "</body></html>"
      ]
     },
     "execution_count": 69,
     "metadata": {},
     "output_type": "execute_result"
    }
   ],
   "source": [
    "telo.parent"
   ]
  },
  {
   "cell_type": "code",
   "execution_count": null,
   "metadata": {},
   "outputs": [],
   "source": []
  }
 ],
 "metadata": {
  "interpreter": {
   "hash": "c91adaf7604d073498a7a4d58de9802ff1a4b8694a82971dba60e862bdc27c88"
  },
  "kernelspec": {
   "display_name": "Python 3.9.6 64-bit",
   "language": "python",
   "name": "python3"
  },
  "language_info": {
   "codemirror_mode": {
    "name": "ipython",
    "version": 3
   },
   "file_extension": ".py",
   "mimetype": "text/x-python",
   "name": "python",
   "nbconvert_exporter": "python",
   "pygments_lexer": "ipython3",
   "version": "3.9.6"
  },
  "orig_nbformat": 4
 },
 "nbformat": 4,
 "nbformat_minor": 2
}
